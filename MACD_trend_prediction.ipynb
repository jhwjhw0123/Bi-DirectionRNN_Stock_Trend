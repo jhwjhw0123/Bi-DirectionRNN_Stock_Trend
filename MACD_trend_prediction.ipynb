{
 "cells": [
  {
   "cell_type": "code",
   "execution_count": 1,
   "metadata": {
    "collapsed": true
   },
   "outputs": [],
   "source": [
    "import numpy as np\n",
    "import pandas as pd\n",
    "import scipy\n",
    "import os\n",
    "from Metric_Computation import *"
   ]
  },
  {
   "cell_type": "markdown",
   "metadata": {},
   "source": [
    "## Load the data and Split"
   ]
  },
  {
   "cell_type": "code",
   "execution_count": 2,
   "metadata": {
    "collapsed": true
   },
   "outputs": [],
   "source": [
    "# specify the path to read\n",
    "data_load_path = '../data/intermediate_stock_split/'\n",
    "# read the data\n",
    "data_test_X = np.load(data_load_path+'data_X_test.npy')\n",
    "data_test_X_prev = np.load(data_load_path+'data_X_prev_test.npy')\n",
    "SP500_test_X = np.load(data_load_path+'SP500_test.npy')\n",
    "SP500_test_X_prev = np.load(data_load_path+'SP500_prev_test.npy')\n",
    "value_target_test = np.load(data_load_path+'target_value_test.npy')\n",
    "value_target_test_prev = np.load(data_load_path+'target_value_prev_test.npy')\n",
    "gradient_target_test = np.load(data_load_path+'target_gradient_test.npy')\n",
    "gradient_target_test_prev = np.load(data_load_path+'target_gradient_prev_test.npy')\n",
    "trend_target_test = np.load(data_load_path+'price_trend_flag_test.npy')\n",
    "stock_split_test = np.load(data_load_path+'stock_ind_split_test.npy')"
   ]
  },
  {
   "cell_type": "code",
   "execution_count": 3,
   "metadata": {
    "collapsed": true
   },
   "outputs": [],
   "source": [
    "# because we needs to clean the data -- build a array to remember the indexes of each stock and \n",
    "# placeholder of the array\n",
    "stock_indication_array = np.zeros([data_test_X.shape[0]])\n",
    "for cStock in range(stock_split_test.shape[0]):\n",
    "    start_ind = stock_split_test[cStock]\n",
    "    if cStock<(stock_split_test.shape[0]-1):\n",
    "        end_ind = stock_split_test[cStock+1]\n",
    "    else:\n",
    "        end_ind = data_test_X.shape[0]\n",
    "    stock_indication_array[start_ind:end_ind] = cStock"
   ]
  },
  {
   "cell_type": "code",
   "execution_count": 6,
   "metadata": {},
   "outputs": [],
   "source": [
    "# drop instance that contains inf values\n",
    "valid_series_index = np.where((np.sum(np.sum(data_test_X,axis=-1),axis=-1)!=np.inf)&((np.sum(np.sum(data_test_X_prev,axis=-1),axis=-1)!=np.inf)))[0]\n",
    "data_test_X = data_test_X[valid_series_index,:,:]\n",
    "data_test_X_prev = data_test_X_prev[valid_series_index,:,:]\n",
    "SP500_test_X = SP500_test_X[valid_series_index,:]\n",
    "SP500_test_X_prev = SP500_test_X_prev[valid_series_index,:]\n",
    "value_target_test = value_target_test[valid_series_index,:]\n",
    "value_target_test_prev = value_target_test_prev[valid_series_index,:]\n",
    "gradient_target_test = gradient_target_test[valid_series_index,:]\n",
    "gradient_target_test_prev = gradient_target_test_prev[valid_series_index,:]\n",
    "trend_target_test = trend_target_test[valid_series_index, :]\n",
    "stock_indication_array = stock_indication_array[valid_series_index]"
   ]
  },
  {
   "cell_type": "code",
   "execution_count": 7,
   "metadata": {
    "collapsed": true
   },
   "outputs": [],
   "source": [
    "current_and_future_price_test = np.concatenate([value_target_test_prev, value_target_test],axis=1)"
   ]
  },
  {
   "cell_type": "markdown",
   "metadata": {},
   "source": [
    "### preceed the trend(class) target to one-hot"
   ]
  },
  {
   "cell_type": "code",
   "execution_count": 8,
   "metadata": {
    "collapsed": true
   },
   "outputs": [],
   "source": [
    "def one_hot_encoding_label(label_input, num_class=None):\n",
    "    '''\n",
    "    :param label_input: The sparse form of input label (2,0,1,3,0,1,2etc.)\n",
    "    :param num_class: The number of classes, if keep None, then automatically infer from the given label input\n",
    "    '''\n",
    "    # retrieve the number of input data\n",
    "    nData = label_input.shape[0]\n",
    "    # reshape the data\n",
    "    label_input_flat = np.reshape(label_input, [-1])\n",
    "    if (label_input_flat.shape[0]!=nData):            # which means the input label is not 'mathematically 1-d'\n",
    "        raise ValueError('The input label must be 1-d mathematically')\n",
    "    # infer the number of class if input is None\n",
    "    if num_class is None:\n",
    "        num_class = (int)(np.amax(label_input)+1)\n",
    "    # create the return encoded matrx\n",
    "    one_hot_label_mat = np.zeros([nData, num_class])\n",
    "    # get a row index to assist the batch-assigning\n",
    "    row_ind_batch = np.arange(nData)\n",
    "    # assign '1's to the corresponding positions\n",
    "    one_hot_label_mat[row_ind_batch, label_input_flat.astype('int')] = 1\n",
    "    \n",
    "    return one_hot_label_mat"
   ]
  },
  {
   "cell_type": "code",
   "execution_count": 9,
   "metadata": {
    "collapsed": true
   },
   "outputs": [],
   "source": [
    "trend_target_test_input = one_hot_encoding_label(trend_target_test)"
   ]
  },
  {
   "cell_type": "markdown",
   "metadata": {},
   "source": [
    "## Evaluation Functions"
   ]
  },
  {
   "cell_type": "code",
   "execution_count": 10,
   "metadata": {
    "collapsed": true
   },
   "outputs": [],
   "source": [
    "# confusion metrics\n",
    "def classification_info_computation(pred_label, true_label, num_class):\n",
    "    '''\n",
    "    :param pred_label: the sparse (not one-hot) prediction of labels\n",
    "    :param true_label: the sparse (not one-hot) ground-truth of labels\n",
    "    :param num_class: number of classes\n",
    "    '''\n",
    "    # flatten the two label arrays if they are not already so\n",
    "    pred_label = np.reshape(pred_label,[-1])\n",
    "    true_label = np.reshape(true_label,[-1])\n",
    "    # initialize the confusion maxtrix array\n",
    "    class_matrix = np.zeros([num_class, num_class])    # each row is the true labels\n",
    "    # initialize the precision and recall arrays\n",
    "    precision_array = np.zeros([num_class])\n",
    "    recall_array = np.zeros([num_class])\n",
    "    # fill the confusion-prediction matrix\n",
    "    for cClass_True in range(num_class):\n",
    "        # retrieve the current \n",
    "        current_cClass_ind = np.where(true_label==cClass_True)[0]\n",
    "        # retrueve the corresponding predictions\n",
    "        current_cClass_pred = pred_label[current_cClass_ind]\n",
    "        # fill the evaluation matrx\n",
    "        for cClass_Pred in range(num_class):\n",
    "            cClass_pred_num = np.where(current_cClass_pred==cClass_Pred)[0].shape[0]\n",
    "            class_matrix[cClass_True, cClass_Pred] = cClass_pred_num\n",
    "    # fill the precision and recall arrays\n",
    "    for cClass_True in range(num_class):\n",
    "        precision_array[cClass_True] = class_matrix[cClass_True,cClass_True]/np.sum(class_matrix[:,cClass_True])\n",
    "        recall_array[cClass_True] = class_matrix[cClass_True,cClass_True]/np.sum(class_matrix[cClass_True,:])\n",
    "        \n",
    "    return class_matrix, precision_array, recall_array"
   ]
  },
  {
   "cell_type": "code",
   "execution_count": 11,
   "metadata": {
    "collapsed": true
   },
   "outputs": [],
   "source": [
    "# 'regret' function\n",
    "def invest_regret_comput(pred_label, true_label):\n",
    "    '''\n",
    "    The function to return the 'regret' defined by the real investment scenarios\n",
    "    :param pred_label: the sparse (not one-hot) prediction of labels\n",
    "    :param true_label: the sparse (not one-hot) ground-truth of labels\n",
    "    With the meaning 2=uptrend 1=downtrend 0=non-trend\n",
    "    Strategy: \n",
    "        predict 0: don't buy or sell\n",
    "        predict 1: sell\n",
    "        predict 2: buy\n",
    "    ******************** Truth Table *********************\n",
    "    | True Label | Predicted Label | Regret |\n",
    "    |      0     |        0        |   0    |\n",
    "    |      0     |        1        |   1    |\n",
    "    |      0     |        2        |   1    |\n",
    "    |      1     |        0        |   1    |\n",
    "    |      1     |        1        |   0    |\n",
    "    |      1     |        2        |   2    |\n",
    "    |      2     |        0        |   1    |\n",
    "    |      2     |        1        |   2    |\n",
    "    |      2     |        2        |   0    |\n",
    "    '''\n",
    "    # flatten the two label arrays if they are not already so\n",
    "    pred_label = np.reshape(pred_label,[-1])\n",
    "    true_label = np.reshape(true_label,[-1])\n",
    "    # check if the two arrays are of the same legth\n",
    "    if pred_label.shape[0]!=true_label.shape[0]:\n",
    "        raise ValueError('The predicted and the true labels must be in the same length!')\n",
    "    # placeholder of regret array\n",
    "    regret_array = np.zeros([pred_label.shape[0]])\n",
    "    # check the conditions for regret '1'\n",
    "    one_regret_ind = np.where(((true_label==0)&(pred_label==2))|((true_label==0)&(pred_label==1))|((true_label==2)&(pred_label==0))|((true_label==1)&(pred_label==0)))[0]\n",
    "    # check the conditions for regret '2'\n",
    "    two_regret_ind = np.where(((true_label==1)&(pred_label==2))|((true_label==2)&(pred_label==1)))[0]\n",
    "    # assign regret values to the entries\n",
    "    regret_array[one_regret_ind] = 1.0\n",
    "    regret_array[two_regret_ind] = 2.0\n",
    "    # compute the overall regret\n",
    "    overall_regret = np.mean(regret_array)\n",
    "    \n",
    "    return overall_regret"
   ]
  },
  {
   "cell_type": "markdown",
   "metadata": {},
   "source": [
    "## Define the CCI rule-based function"
   ]
  },
  {
   "cell_type": "code",
   "execution_count": 25,
   "metadata": {
    "collapsed": true
   },
   "outputs": [],
   "source": [
    "def CCI_stock_prediction(input_x, decision_thred = 100):\n",
    "    '''\n",
    "    Input must be continuous in terms of time\n",
    "    '''\n",
    "    # palceholder of the predicted labels\n",
    "    label_prediction = np.zeros([input_x.shape[0]])\n",
    "    # Use the 20-day CCI as the indicator\n",
    "    CCI_mat = input_x[:,4,-1]      # [nData]\n",
    "    # find the the index exceed the threshold and assign values\n",
    "    label_prediction[np.where(CCI_mat>=decision_thred)[0]] = 2     # uptrend\n",
    "    label_prediction[np.where(CCI_mat<=-decision_thred)[0]] = 1    # downtrend\n",
    "    \n",
    "    return label_prediction"
   ]
  },
  {
   "cell_type": "markdown",
   "metadata": {},
   "source": [
    "## Define the MACD-based Rule"
   ]
  },
  {
   "cell_type": "code",
   "execution_count": 30,
   "metadata": {},
   "outputs": [],
   "source": [
    "def MACD_stock_prediction(input_x):\n",
    "    '''\n",
    "    The input must be in continuous time!!!\n",
    "    '''\n",
    "    # placeholder of the MACD output label\n",
    "    label_prediction = np.zeros([input_x.shape[0]])\n",
    "    # MACD line\n",
    "    MACD_line = np.reshape(input_x[:, -12, 1] - input_x[:, 0, 1], [-1])\n",
    "    # signal line -- 9-day EMA of MACD\n",
    "    # build the [nData * 9] array for computing\n",
    "    MACD_date_array = np.zeros([MACD_line.shape[0],9])\n",
    "    # loop to fill the values\n",
    "    for cDate in range(MACD_line.shape[0]):\n",
    "        if cDate<8:\n",
    "            MACD_date_array[cDate, :] = np.concatenate([np.zeros([8-cDate]), MACD_line[:(cDate+1)]],axis=0)\n",
    "        else:\n",
    "            MACD_date_array[cDate, :] = MACD_line[(cDate-8):(cDate+1)]\n",
    "    # compute with EMA\n",
    "    base_signal_line = np.reshape(EMA_batch_computation(MACD_date_array,n_period_compute=[9]),[-1])\n",
    "    # compute the difference between the two values\n",
    "    diff_MACD_base = MACD_line - base_signal_line\n",
    "    # let positive to be 1 and negative to be -1\n",
    "    sign_diff_MACD = np.zeros(diff_MACD_base.shape)\n",
    "    sign_diff_MACD[np.where(diff_MACD_base>0)[0]] = 1\n",
    "    # set the 1-order difference\n",
    "    # for the cross_sign_diff_MACD values:\n",
    "    #   1 -- MACD upcross baseline   -1 -- MACD downcross baseline    0 -- no trends\n",
    "    cross_sign_diff_MACD = np.concatenate([np.zeros([1]),np.diff(sign_diff_MACD)],axis=0) \n",
    "    # assign up/down trend predictions\n",
    "    label_prediction[np.where(cross_sign_diff_MACD==1)[0]] = 2\n",
    "    label_prediction[np.where(cross_sign_diff_MACD==-1)[0]] = 1\n",
    "    \n",
    "    return label_prediction"
   ]
  },
  {
   "cell_type": "code",
   "execution_count": 31,
   "metadata": {},
   "outputs": [
    {
     "name": "stdout",
     "output_type": "stream",
     "text": [
      "The test regret of the current epoch is:  0.019844780105148962\n",
      "Recall Info:\n",
      "On the testing data, the recall of Non-trend: 0.9976557324137463  Downtrend: 0.05  Uptrend: 0.03143712574850299\n",
      "Precision Info:\n",
      "On the testing data, the precision of Non-trend: 0.9838342211947599  Downtrend: 0.17117117117117117  Uptrend: 0.19090909090909092\n",
      "Adjusted Precision:\n",
      "On the testing data, Adjusted Downtrend precision:  -0.09009009009009009 Adjusted Uptrend precision:  0.06363636363636366\n",
      "**************************I'm the Divider*****************************\n"
     ]
    }
   ],
   "source": [
    "# placeholder for the ground-truth and predicted outputs\n",
    "# the placeholder of the true labels are also required because the labels shoud be in order\n",
    "true_label_odered = np.zeros([gradient_target_test.shape[0]])\n",
    "pred_label_orderd = np.zeros([gradient_target_test.shape[0]]) \n",
    "# initialize the start index\n",
    "pred_start_ind = 0\n",
    "# loop over different stocks\n",
    "for cStock in range(stock_split_test.shape[0]):\n",
    "    # retrieve the index of the current stock\n",
    "    ind_current_stock = np.where(stock_indication_array==cStock)[0]\n",
    "    # compute the number of data\n",
    "    nData_this_stock = ind_current_stock.shape[0]\n",
    "    # retrieve the true labels of the current stock\n",
    "    current_true_labels = np.flip(trend_target_test[ind_current_stock],axis=0)\n",
    "    # retrieve the current stock data with a accending time order\n",
    "    current_time_input = np.flip(data_test_X[pred_start_ind:pred_start_ind+nData_this_stock,:,:],axis=0)\n",
    "    # compute the MACD prediction\n",
    "    current_pred_labels = MACD_stock_prediction(current_time_input)\n",
    "    # store the resulting labels\n",
    "    true_label_odered[pred_start_ind:pred_start_ind+nData_this_stock] = np.reshape(current_true_labels,[-1])\n",
    "    pred_label_orderd[pred_start_ind:pred_start_ind+nData_this_stock] = np.reshape(current_pred_labels,[-1])\n",
    "# compute the holistic evaluation metrics\n",
    "# test\n",
    "class_matrix_test, precision_array_test, recall_array_test = classification_info_computation(pred_label = pred_label_orderd,\n",
    "                                                                                             true_label = true_label_odered, \n",
    "                                                                                             num_class=3)\n",
    "down_mis_up_rate_test = class_matrix_test[2,1]/np.sum(class_matrix_test[:,1])\n",
    "up_mis_down_rate_test = class_matrix_test[1,2]/np.sum(class_matrix_test[:,2])\n",
    "precision_downtrend_adjusted_test = precision_array_test[1] - down_mis_up_rate_test\n",
    "precision_uptrend_adjuest_test = precision_array_test[2] - up_mis_down_rate_test\n",
    "# regret\n",
    "regret_epoch_test = invest_regret_comput(pred_label = pred_label_orderd,\n",
    "                                         true_label = true_label_odered)\n",
    "# print out the information\n",
    "print('The test regret of the current epoch is: ', regret_epoch_test)\n",
    "print('Recall Info:')\n",
    "print('On the testing data, the recall of Non-trend:', recall_array_test[0], ' Downtrend:', recall_array_test[1], ' Uptrend:', recall_array_test[2])\n",
    "print('Precision Info:')\n",
    "print('On the testing data, the precision of Non-trend:', precision_array_test[0], ' Downtrend:', precision_array_test[1], ' Uptrend:', precision_array_test[2])\n",
    "print('Adjusted Precision:')\n",
    "print('On the testing data, Adjusted Downtrend precision: ', precision_downtrend_adjusted_test, 'Adjusted Uptrend precision: ', precision_uptrend_adjuest_test)\n",
    "print('**************************I\\'m the Divider*****************************')"
   ]
  },
  {
   "cell_type": "code",
   "execution_count": 21,
   "metadata": {
    "collapsed": true
   },
   "outputs": [],
   "source": [
    "save_path = '../results_MACD/'\n",
    "# make the path if it does not exist yet\n",
    "if not os.path.exists(save_path):\n",
    "    os.makedirs(save_path)\n",
    "# save training\n",
    "np.save(save_path+'train_precision_epoch_array.npy',train_epoch_wise_info[0])\n",
    "np.save(save_path+'train_recall_epoch_array.npy',train_epoch_wise_info[1]) \n",
    "np.save(save_path+'train_regret_epoch_array.npy',train_epoch_wise_info[2]) \n",
    "np.save(save_path+'save_class_matrix_train.npy',train_epoch_wise_info[3]) \n",
    "# save validation\n",
    "np.save(save_path+'valid_precision_epoch_array.npy',valid_epoch_wise_info[0])\n",
    "np.save(save_path+'valid_recall_epoch_array.npy',valid_epoch_wise_info[1]) \n",
    "np.save(save_path+'valid_regret_epoch_array.npy',valid_epoch_wise_info[2]) \n",
    "np.save(save_path+'save_class_matrix_valid.npy',valid_epoch_wise_info[3]) \n",
    "# save the testing\n",
    "np.save(save_path+'test_precision_epoch_array.npy',test_epoch_wise_info[0])\n",
    "np.save(save_path+'test_recall_epoch_array.npy',test_epoch_wise_info[1]) \n",
    "np.save(save_path+'test_regret_epoch_array.npy',test_epoch_wise_info[2]) \n",
    "np.save(save_path+'save_class_matrix_test.npy',test_epoch_wise_info[3]) "
   ]
  },
  {
   "cell_type": "code",
   "execution_count": null,
   "metadata": {
    "collapsed": true
   },
   "outputs": [],
   "source": []
  }
 ],
 "metadata": {
  "kernelspec": {
   "display_name": "Python 3",
   "language": "python",
   "name": "python3"
  },
  "language_info": {
   "codemirror_mode": {
    "name": "ipython",
    "version": 3
   },
   "file_extension": ".py",
   "mimetype": "text/x-python",
   "name": "python",
   "nbconvert_exporter": "python",
   "pygments_lexer": "ipython3",
   "version": "3.5.2"
  }
 },
 "nbformat": 4,
 "nbformat_minor": 2
}
